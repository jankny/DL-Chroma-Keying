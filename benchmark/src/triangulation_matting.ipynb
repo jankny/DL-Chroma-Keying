{
 "cells": [
  {
   "cell_type": "markdown",
   "source": [
    "# Triangulation Matting\n",
    "### Import Packages"
   ],
   "metadata": {
    "collapsed": false,
    "pycharm": {
     "name": "#%% md\n"
    }
   }
  },
  {
   "cell_type": "code",
   "execution_count": null,
   "metadata": {
    "collapsed": true
   },
   "outputs": [],
   "source": [
    "import re\n",
    "import os\n",
    "import pylab\n",
    "from PIL import Image\n",
    "import numpy as np\n",
    "from os import path\n",
    "import matplotlib.pyplot as plt\n",
    "import cv2\n",
    "from numba import njit\n",
    "import rawpy\n",
    "from imutils import paths\n",
    "import shutil\n",
    "import glob\n",
    "\n",
    "raw_jpg = \"/home/jannes/uni/jk-masterarbeit/green_benchmark/raw_jpg\"\n",
    "postview = \"/home/jannes/uni/jk-masterarbeit/green_benchmark/postview\"\n"
   ]
  },
  {
   "cell_type": "markdown",
   "source": [
    "### Triangulation Matting Implementation"
   ],
   "metadata": {
    "collapsed": false,
    "pycharm": {
     "name": "#%% md\n"
    }
   }
  },
  {
   "cell_type": "code",
   "execution_count": null,
   "outputs": [],
   "source": [
    "def load_image(dir, name, reduce:int=None):\n",
    "    im_path = path.join(dir, name)\n",
    "    if \".ARW\" in name:\n",
    "        raw = rawpy.imread(im_path)\n",
    "        arr = raw.postprocess(rawpy.Params(use_camera_wb=True, fbdd_noise_reduction=rawpy.FBDDNoiseReductionMode.Full))\n",
    "    else:\n",
    "        arr = np.asarray(Image.open(fp=im_path))\n",
    "    if reduce is not None:\n",
    "        arr = arr[::reduce,::reduce,:]\n",
    "    return arr\n",
    "\n",
    "@njit( parallel=True)\n",
    "def triangulation_matting(img1, img1bg, img2, img2bg):\n",
    "    img1delta = img1/255 - img1bg/255\n",
    "    img2delta = img2/255 - img2bg/255\n",
    "\n",
    "    b = np.concatenate((img1delta, img2delta), axis=-1)\n",
    "\n",
    "    alpha = np.zeros(img1.shape[:2])\n",
    "    colors = np.zeros(img1.shape)\n",
    "    for r in range(len(img1)):\n",
    "        for c in range(len(img1[0])):\n",
    "            a = np.array([\n",
    "                [1,0,0,-1/255*img1bg[r][c][0]],\n",
    "                [0,1,0,-1/255*img1bg[r][c][1]],\n",
    "                [0,0,1,-1/255*img1bg[r][c][2]],\n",
    "                [1,0,0,-1/255*img2bg[r][c][0]],\n",
    "                [0,1,0,-1/255*img2bg[r][c][1]],\n",
    "                [0,0,1,-1/255*img2bg[r][c][2]],\n",
    "            ])\n",
    "            x = np.clip(np.linalg.pinv(a).dot(b[r][c]), 0, 1)\n",
    "            colors[r,c] = np.array([x[0], x[1], x[2]])\n",
    "            alpha[r,c] = x[3]\n",
    "\n",
    "    alpha = np.expand_dims(alpha, axis=-1)\n",
    "    return colors, alpha\n"
   ],
   "metadata": {
    "collapsed": false,
    "pycharm": {
     "name": "#%%\n"
    }
   }
  },
  {
   "cell_type": "markdown",
   "source": [
    "### List Object dirs\n",
    "Paste the directory name of a captured object and the corresponding background\n",
    "directory name in the list of tuples."
   ],
   "metadata": {
    "collapsed": false,
    "pycharm": {
     "name": "#%% md\n"
    }
   }
  },
  {
   "cell_type": "code",
   "execution_count": null,
   "outputs": [],
   "source": [
    "objects_path = \"/home/jannes/uni/jk-masterarbeit/green_benchmark/raw_jpg\"\n",
    "objects = [\n",
    "    (\"cactus_20230221-230300\", \"cactus_bg_20230221-230416\"),\n",
    "    (\"elephant_20230221-231530\", \"elephant_bg_20230221-232319\"),\n",
    "    (\"teddy_20230222-011042\", \"teddy_bg_20230222-011506\"),\n",
    "    (\"belt_20230222-010233\", \"belt_bg_20230222-010420\"),\n",
    "    (\"headphones_20230222-004515\", \"headphones_bg_20230222-005024\"),\n",
    "    (\"waterbottle_20230222-002305\", \"waterbottle_bg_20230222-002402\"),\n",
    "    (\"palm_20230222-000910\", \"palm_bg_20230222-001051\"),\n",
    "    (\"palm_20230222-000612\", \"palm_bg_20230222-001051\"),\n",
    "    (\"thermos_20230221-235201\", \"thermos_bg_20230221-235321\"),\n",
    "\n",
    "    (\"doll_20230228-230757\", \"doll_bg_20230228-230927\"),\n",
    "    (\"doll_f3_2_20230301-000845\", \"doll_f3_2_bg_20230301-001005\"),\n",
    "    (\"doll_f5_6_20230301-001322\", \"doll_f5_6_bg_20230301-001400\"),\n",
    "    (\"doll_f8_20230301-001736\", \"doll_f8_bg_20230301-001850\"),\n",
    "    (\"curtain_20230301-010421\", \"curtain_bg_20230301-010555\"),\n",
    "\n",
    "    (\"10er_20230308-003805\", \"10er_bg_20230308-003846\"),\n",
    "    (\"apple_20230308-004012\", \"apple_bg_20230308-004049\"),\n",
    "    (\"dogs_20230308-004828\", \"dogs_bg_20230308-004915\"),\n",
    "    (\"horse_20230308-005709\", \"horse_bg_20230308-005751\"),\n",
    "    (\"people_20230308-010809\", \"people_bg_20230308-011037\"),\n",
    "    (\"people_20230308-010950\", \"people_bg_20230308-011037\"),\n",
    "    (\"people2_20230308-011552\", \"people2_bg_20230308-011703\"),\n",
    "    (\"noodles_20230308-014234\", \"noodles_bg_20230308-014807\"),\n",
    "    (\"noodles_colors_20230308-014714\", \"noodles_bg_20230308-014807\"),\n",
    "    (\"colors_20230308-020041\", \"noodles_bg_20230308-014807\"),\n",
    "    (\"colors2_20230308-020652\", \"colors2_bg_20230308-020859\"),\n",
    "    (\"colors3_20230308-021435\", \"colors2_bg_20230308-020859\"),\n",
    "\n",
    "    (\"car_20230525-024456\", \"car_bg_20230525-024543\"),\n",
    "    (\"leaves_20230525-025257\", \"leaves_bg_20230525-025540\"),\n",
    "    (\"leaves2_20230525-025435\", \"leaves_bg_20230525-025540\"),\n",
    "    (\"fox_spill_20230525-031300\", \"fox_bg_20230525-031528\"),\n",
    "    (\"fox_20230525-031354\", \"fox_bg_20230525-031528\"),\n",
    "    # (\"\", \"\"),\n",
    "]"
   ],
   "metadata": {
    "collapsed": false,
    "pycharm": {
     "name": "#%%\n"
    }
   }
  },
  {
   "cell_type": "markdown",
   "source": [
    "### Execute Triangulation Matting"
   ],
   "metadata": {
    "collapsed": false,
    "pycharm": {
     "name": "#%% md\n"
    }
   }
  },
  {
   "cell_type": "code",
   "execution_count": null,
   "outputs": [],
   "source": [
    "img1_name =   \"green96\"\n",
    "img1bg_name = \"\"\n",
    "img2_name =   \"blue96\"\n",
    "img2bg_name = \"\"\n",
    "img_black_name = \"black\"\n",
    "\n",
    "for object, bg in objects:\n",
    "    images = paths.list_images(path.join(objects_path, object))\n",
    "    images_bg = paths.list_images(path.join(objects_path, bg))\n",
    "    img1 = None\n",
    "    img1bg = None\n",
    "    img2 = None\n",
    "    img2bg = None\n",
    "    img_black = None\n",
    "    for img in images:\n",
    "        img = path.split(img)[1]\n",
    "        if img1_name in img:\n",
    "            img1 =   load_image(objects_path, f\"{object}/{img}\", reduce=None)\n",
    "        if img2_name in img:\n",
    "            img2 =   load_image(objects_path, f\"{object}/{img}\", reduce=None)\n",
    "        if img_black_name in img:\n",
    "            img_black = load_image(objects_path, f\"{object}/{img}\", reduce=None)/255\n",
    "\n",
    "    for img_bg in images_bg:\n",
    "        img_bg = path.split(img_bg)[1]\n",
    "        if img1_name in img_bg:\n",
    "            img1bg = load_image(objects_path, f\"{bg}/{img_bg}\", reduce=None)\n",
    "        if img2_name in img_bg:\n",
    "            img2bg = load_image(objects_path, f\"{bg}/{img_bg}\", reduce=None)\n",
    "\n",
    "    colors, alpha = triangulation_matting(img1, img1bg, img2, img2bg)\n",
    "\n",
    "    gt = np.concatenate((img_black, alpha), axis=-1)\n",
    "    out = np.concatenate((colors, alpha), axis=-1)\n",
    "\n",
    "    save_dir = path.join(objects_path, object, \"matting\")\n",
    "    os.makedirs(save_dir, exist_ok=True)\n",
    "    pylab.imsave(path.join(save_dir, \"out.png\"), out)\n",
    "    pylab.imsave(path.join(save_dir, \"gt.png\"), gt)\n",
    "    pylab.imsave(path.join(save_dir, \"alpha.png\"), np.squeeze(alpha, axis=-1), cmap=pylab.cm.gray)\n",
    "\n",
    "    print(f\"Finished {object} \")"
   ],
   "metadata": {
    "collapsed": false,
    "pycharm": {
     "name": "#%%\n"
    }
   }
  },
  {
   "cell_type": "markdown",
   "source": [
    "### Alpha Map Clipping"
   ],
   "metadata": {
    "collapsed": false,
    "pycharm": {
     "name": "#%% md\n"
    }
   }
  },
  {
   "cell_type": "code",
   "execution_count": null,
   "outputs": [],
   "source": [
    "for object, _ in objects:\n",
    "    matting_dir = path.join(objects_path, object, \"matting\")\n",
    "    alpha_path = path.join(matting_dir, \"alpha.png\")\n",
    "    alpha = np.asarray(Image.open(fp=alpha_path))[:,:,0]\n",
    "    alpha_corr = np.where(alpha >= 246, 255, alpha)\n",
    "    alpha_corr = np.where(alpha_corr <= 8, 0, alpha_corr)\n",
    "\n",
    "    pylab.imsave(path.join(matting_dir, \"alpha_clip.png\"), alpha_corr, cmap=pylab.cm.gray)\n",
    "    print(f\"Finished {object} \")\n",
    "\n"
   ],
   "metadata": {
    "collapsed": false,
    "pycharm": {
     "name": "#%%\n"
    }
   }
  },
  {
   "cell_type": "markdown",
   "source": [
    "### Edited Ground Truth\n",
    "After editing the alpha maps, the complete ground truth can be created."
   ],
   "metadata": {
    "collapsed": false
   }
  },
  {
   "cell_type": "code",
   "execution_count": null,
   "outputs": [],
   "source": [
    "for object, _ in objects:\n",
    "    matting_dir = path.join(objects_path, object, \"matting\")\n",
    "    alpha_edit_path = path.join(matting_dir, \"alpha_edit.png\")\n",
    "    gt_path = path.join(matting_dir, \"gt.png\")\n",
    "    if path.isfile(alpha_edit_path):\n",
    "        alpha = np.asarray(Image.open(fp=alpha_edit_path))[:,:,0]\n",
    "        gt = np.asarray(Image.open(fp=gt_path))\n",
    "        gt_edit = np.copy(gt)\n",
    "        gt_edit[:,:,3] = alpha\n",
    "\n",
    "        pylab.imsave(path.join(matting_dir, \"gt_edit.png\"), gt_edit)\n",
    "        print(f\"Finished {object} \")\n",
    "    else:\n",
    "        print(alpha_edit_path, \"not found\")\n",
    "\n"
   ],
   "metadata": {
    "collapsed": false,
    "pycharm": {
     "name": "#%%\n"
    }
   }
  },
  {
   "cell_type": "markdown",
   "source": [
    "### Crop and finalize Dataset\n"
   ],
   "metadata": {
    "collapsed": false,
    "pycharm": {
     "name": "#%% md\n"
    }
   }
  },
  {
   "cell_type": "code",
   "execution_count": null,
   "outputs": [],
   "source": [
    "crop_images = {\n",
    "    \"cactus\": 0.7,\n",
    "    \"elephant\": 0.8,\n",
    "    \"belt\": 0.8,\n",
    "    \"10er\": 0.6,\n",
    "    \"apple\": 0.6,\n",
    "    \"dogs\": 0.7,\n",
    "    \"horse\": 0.7,\n",
    "    \"people\": 0.5,\n",
    "    \"car\": 0.5,\n",
    "}\n",
    "\n",
    "red = \"red\"\n",
    "green = \"green\"\n",
    "blue = \"blue\"\n",
    "black = \"black\"\n",
    "alpha = \"alpha\"\n",
    "gt = \"ground_truth\"\n",
    "\n",
    "benchmark_path = \"/home/jannes/uni/jk-masterarbeit/green_benchmark/benchmark\"\n",
    "os.makedirs(path.join(benchmark_path, alpha), exist_ok=True)\n",
    "n = len(os.listdir(path.join(benchmark_path, alpha)))\n",
    "object_name_re = re.compile(r\"[^/]+(?=_2023)\")\n",
    "\n",
    "def get_new_image_name(path, ext):\n",
    "    object_name = object_name_re.search(path).group()\n",
    "    return f\"{n}_{object_name}.png\"\n",
    "\n",
    "for object, _ in objects:\n",
    "    print(f\"Copy {object}..\")\n",
    "    dir = path.join(objects_path, object)\n",
    "    red_path = glob.glob(path.join(dir, \"*red*.JPG\"))[0]\n",
    "    green_path = glob.glob(path.join(dir, \"*green*.JPG\"))[0]\n",
    "    blue_path = glob.glob(path.join(dir, \"*blue*.JPG\"))[0]\n",
    "    black_path = glob.glob(path.join(dir, \"*black*.JPG\"))[0]\n",
    "    alpha_path = glob.glob(path.join(dir, \"matting\", \"alpha_edit.png\"))[0]\n",
    "    gt_path = glob.glob(path.join(dir, \"matting\", \"gt_edit.png\"))[0]\n",
    "    img_copy = [\n",
    "        (red_path, path.join(benchmark_path, red, get_new_image_name(red_path, \".JPG\"))),\n",
    "        (green_path, path.join(benchmark_path, green, get_new_image_name(green_path, \".JPG\"))),\n",
    "        (blue_path, path.join(benchmark_path, blue, get_new_image_name(blue_path, \".JPG\"))),\n",
    "        (black_path, path.join(benchmark_path, black, get_new_image_name(black_path, \".JPG\"))),\n",
    "        (alpha_path, path.join(benchmark_path, alpha, get_new_image_name(alpha_path, \".png\"))),\n",
    "        (gt_path, path.join(benchmark_path, gt, get_new_image_name(gt_path, \".png\"))),\n",
    "    ]\n",
    "\n",
    "    for src, dest in img_copy:\n",
    "        os.makedirs(os.path.dirname(dest), exist_ok=True)\n",
    "        image = Image.open(src)\n",
    "        if \".JPG\" in src:\n",
    "            image = image.convert('RGB')\n",
    "\n",
    "        for name, ratio in crop_images.items():\n",
    "            if name in src:\n",
    "                    width, height = image.size\n",
    "                    new_width = int(width * ratio)\n",
    "                    new_height = int(height * ratio)\n",
    "\n",
    "                    crop_width = new_width\n",
    "                    crop_height = new_height\n",
    "\n",
    "                    x = int((width - crop_width) / 2)\n",
    "                    y = height - crop_height\n",
    "\n",
    "                    crop_box = (x, y, x + crop_width, y + crop_height)\n",
    "                    image = image.crop(crop_box)\n",
    "\n",
    "        image.save(dest)\n",
    "\n",
    "    n = n + 1"
   ],
   "metadata": {
    "collapsed": false,
    "pycharm": {
     "name": "#%%\n"
    }
   }
  }
 ],
 "metadata": {
  "kernelspec": {
   "display_name": "Python 3",
   "language": "python",
   "name": "python3"
  },
  "language_info": {
   "codemirror_mode": {
    "name": "ipython",
    "version": 2
   },
   "file_extension": ".py",
   "mimetype": "text/x-python",
   "name": "python",
   "nbconvert_exporter": "python",
   "pygments_lexer": "ipython2",
   "version": "2.7.6"
  }
 },
 "nbformat": 4,
 "nbformat_minor": 0
}